{
 "cells": [
  {
   "cell_type": "markdown",
   "metadata": {
    "id": "eCTMuQy-KC9Z"
   },
   "source": [
    "# Dunder Mifflin Acquisition Analysis\n",
    "\n",
    "**Business Context:**  \n",
    "Dunder Mifflin is considering acquiring Parch & Posey Paper Co., a smaller but fast-growing paper company. As a data analyst embedded in this initiative, you were tasked with conducting an exploratory data analysis (EDA) using SQL to help leadership evaluate the opportunity.\n",
    "\n",
    "This analysis focuses on:\n",
    "- Customer and regional footprint\n",
    "- Product sales and revenue trends\n",
    "- Staffing and operational gaps\n",
    "- Key strategic recommendations before acquisition\n",
    "\n",
    "Data is drawn from transactional and account-level records from 2013 to 2017."
   ]
  },
  {
   "cell_type": "markdown",
   "metadata": {
    "id": "3AUhqK5JKjpP"
   },
   "source": [
    "# 1. Load SQL Extension and Connect to PostgreSQL (Code cell)"
   ]
  },
  {
   "cell_type": "code",
   "execution_count": 3,
   "metadata": {
    "colab": {
     "base_uri": "https://localhost:8080/"
    },
    "id": "qUAaNoXYJS0l",
    "outputId": "a7f519e5-9f76-49a5-ef8f-293011373bc2"
   },
   "outputs": [],
   "source": [
    "# access environment variables and create db engine and run sql queries\n",
    "\n",
    "from dotenv import load_dotenv\n",
    "load_dotenv(\"dunder.env\")\n",
    "\n",
    "import os\n",
    "import pandas as pd\n",
    "from sqlalchemy import create_engine\n",
    "\n",
    "user = os.getenv('DB_USER')\n",
    "password = os.getenv('DB_PASS')\n",
    "host = os.getenv('DB_HOST')\n",
    "port = os.getenv('DB_PORT')\n",
    "dbname = os.getenv('DB_NAME')\n",
    "\n",
    "connection_string = f'postgresql://{user}:{password}@{host}:{port}/{dbname}'\n",
    "\n",
    "engine = create_engine(connection_string)"
   ]
  },
  {
   "cell_type": "markdown",
   "metadata": {
    "id": "skwlvtPxPers"
   },
   "source": [
    "# Customer and Regional Footprint\n",
    "\n",
    "Parch & Posey operates in **7 distinct regions** and serves **351 unique customer accounts**, highlighting a solid presence across multiple markets."
   ]
  },
  {
   "cell_type": "code",
   "execution_count": 5,
   "metadata": {
    "id": "O5tb1KjWQEbk"
   },
   "outputs": [
    {
     "data": {
      "text/html": [
       "<div>\n",
       "<style scoped>\n",
       "    .dataframe tbody tr th:only-of-type {\n",
       "        vertical-align: middle;\n",
       "    }\n",
       "\n",
       "    .dataframe tbody tr th {\n",
       "        vertical-align: top;\n",
       "    }\n",
       "\n",
       "    .dataframe thead th {\n",
       "        text-align: right;\n",
       "    }\n",
       "</style>\n",
       "<table border=\"1\" class=\"dataframe\">\n",
       "  <thead>\n",
       "    <tr style=\"text-align: right;\">\n",
       "      <th></th>\n",
       "      <th>total_acts</th>\n",
       "    </tr>\n",
       "  </thead>\n",
       "  <tbody>\n",
       "    <tr>\n",
       "      <th>0</th>\n",
       "      <td>351</td>\n",
       "    </tr>\n",
       "  </tbody>\n",
       "</table>\n",
       "</div>"
      ],
      "text/plain": [
       "   total_acts\n",
       "0         351"
      ]
     },
     "execution_count": 5,
     "metadata": {},
     "output_type": "execute_result"
    }
   ],
   "source": [
    "# total accounts\n",
    "\n",
    "query = \"SELECT COUNT(*) AS total_acts FROM accounts\"\n",
    "\n",
    "df = pd.read_sql(query, engine)\n",
    "\n",
    "df"
   ]
  },
  {
   "cell_type": "code",
   "execution_count": 6,
   "metadata": {
    "id": "sJ1JxAQ2gnL6"
   },
   "outputs": [
    {
     "data": {
      "text/html": [
       "<div>\n",
       "<style scoped>\n",
       "    .dataframe tbody tr th:only-of-type {\n",
       "        vertical-align: middle;\n",
       "    }\n",
       "\n",
       "    .dataframe tbody tr th {\n",
       "        vertical-align: top;\n",
       "    }\n",
       "\n",
       "    .dataframe thead th {\n",
       "        text-align: right;\n",
       "    }\n",
       "</style>\n",
       "<table border=\"1\" class=\"dataframe\">\n",
       "  <thead>\n",
       "    <tr style=\"text-align: right;\">\n",
       "      <th></th>\n",
       "      <th>total_rgns</th>\n",
       "    </tr>\n",
       "  </thead>\n",
       "  <tbody>\n",
       "    <tr>\n",
       "      <th>0</th>\n",
       "      <td>7</td>\n",
       "    </tr>\n",
       "  </tbody>\n",
       "</table>\n",
       "</div>"
      ],
      "text/plain": [
       "   total_rgns\n",
       "0           7"
      ]
     },
     "execution_count": 6,
     "metadata": {},
     "output_type": "execute_result"
    }
   ],
   "source": [
    "# total regions\n",
    "\n",
    "query = \"SELECT COUNT(*) as total_rgns FROM region\"\n",
    "\n",
    "df = pd.read_sql(query, engine)\n",
    "\n",
    "df"
   ]
  },
  {
   "cell_type": "markdown",
   "metadata": {
    "id": "Y1GAqqDLPoDq"
   },
   "source": [
    "# Product Mix and Revenue Composition\n",
    "\n",
    "Parch & Posey sells three types of paper: **Standard, Gloss, and Poster**. Standard accounts for over **50%** of total volume sold, while Gloss and Poster contribute more revenue per unit."
   ]
  },
  {
   "cell_type": "code",
   "execution_count": 8,
   "metadata": {
    "id": "VNX6kLRUPilv"
   },
   "outputs": [
    {
     "data": {
      "text/html": [
       "<div>\n",
       "<style scoped>\n",
       "    .dataframe tbody tr th:only-of-type {\n",
       "        vertical-align: middle;\n",
       "    }\n",
       "\n",
       "    .dataframe tbody tr th {\n",
       "        vertical-align: top;\n",
       "    }\n",
       "\n",
       "    .dataframe thead th {\n",
       "        text-align: right;\n",
       "    }\n",
       "</style>\n",
       "<table border=\"1\" class=\"dataframe\">\n",
       "  <thead>\n",
       "    <tr style=\"text-align: right;\">\n",
       "      <th></th>\n",
       "      <th>std_total</th>\n",
       "      <th>gloss_total</th>\n",
       "      <th>poster_total</th>\n",
       "      <th>pcntg_std</th>\n",
       "      <th>pcntg_gloss</th>\n",
       "      <th>pcntg_poster</th>\n",
       "    </tr>\n",
       "  </thead>\n",
       "  <tbody>\n",
       "    <tr>\n",
       "      <th>0</th>\n",
       "      <td>1938346</td>\n",
       "      <td>1013773</td>\n",
       "      <td>723646</td>\n",
       "      <td>52.733132</td>\n",
       "      <td>27.579919</td>\n",
       "      <td>19.68695</td>\n",
       "    </tr>\n",
       "  </tbody>\n",
       "</table>\n",
       "</div>"
      ],
      "text/plain": [
       "   std_total  gloss_total  poster_total  pcntg_std  pcntg_gloss  pcntg_poster\n",
       "0    1938346      1013773        723646  52.733132    27.579919      19.68695"
      ]
     },
     "execution_count": 8,
     "metadata": {},
     "output_type": "execute_result"
    }
   ],
   "source": [
    "## Percentage of total quantity sold by paper type\n",
    "\n",
    "query = \"\"\"\n",
    "SELECT\n",
    "    SUM(standard_qty) AS std_total,\n",
    "    SUM(gloss_qty) AS gloss_total,\n",
    "    SUM(poster_qty) AS poster_total,\n",
    "    100.0 * SUM(standard_qty) / SUM(total) AS pcntg_std,\n",
    "    100.0 * SUM(gloss_qty) / SUM(total) AS pcntg_gloss,\n",
    "    100.0 * SUM(poster_qty) / SUM(total) AS pcntg_poster\n",
    "FROM orders \"\"\"\n",
    "\n",
    "df = pd.read_sql(query, engine)\n",
    "\n",
    "df"
   ]
  },
  {
   "cell_type": "code",
   "execution_count": 9,
   "metadata": {
    "id": "HjjXUZHFhN8e"
   },
   "outputs": [
    {
     "data": {
      "text/html": [
       "<div>\n",
       "<style scoped>\n",
       "    .dataframe tbody tr th:only-of-type {\n",
       "        vertical-align: middle;\n",
       "    }\n",
       "\n",
       "    .dataframe tbody tr th {\n",
       "        vertical-align: top;\n",
       "    }\n",
       "\n",
       "    .dataframe thead th {\n",
       "        text-align: right;\n",
       "    }\n",
       "</style>\n",
       "<table border=\"1\" class=\"dataframe\">\n",
       "  <thead>\n",
       "    <tr style=\"text-align: right;\">\n",
       "      <th></th>\n",
       "      <th>rev_pcntg_std</th>\n",
       "      <th>rev_pcntg_gloss</th>\n",
       "      <th>rev_pcntg_poster</th>\n",
       "    </tr>\n",
       "  </thead>\n",
       "  <tbody>\n",
       "    <tr>\n",
       "      <th>0</th>\n",
       "      <td>41.8</td>\n",
       "      <td>32.81</td>\n",
       "      <td>25.39</td>\n",
       "    </tr>\n",
       "  </tbody>\n",
       "</table>\n",
       "</div>"
      ],
      "text/plain": [
       "   rev_pcntg_std  rev_pcntg_gloss  rev_pcntg_poster\n",
       "0           41.8            32.81             25.39"
      ]
     },
     "execution_count": 9,
     "metadata": {},
     "output_type": "execute_result"
    }
   ],
   "source": [
    "# Revenue share by paper type\n",
    "\n",
    "query = \"\"\"\n",
    "SELECT\n",
    "    ROUND(SUM(standard_amt_usd) * 100.0 / SUM(total_amt_usd), 2) AS rev_pcntg_std,\n",
    "    ROUND(SUM(gloss_amt_usd) * 100.0 / SUM(total_amt_usd), 2) AS rev_pcntg_gloss,\n",
    "    ROUND(SUM(poster_amt_usd) * 100.0 / SUM(total_amt_usd), 2) AS rev_pcntg_poster\n",
    "FROM orders \"\"\"\n",
    "\n",
    "df = pd.read_sql(query, engine)\n",
    "df"
   ]
  },
  {
   "cell_type": "code",
   "execution_count": 10,
   "metadata": {},
   "outputs": [
    {
     "data": {
      "image/png": "[encoded data removed]",
      "text/plain": [
       "<Figure size 600x400 with 1 Axes>"
      ]
     },
     "metadata": {},
     "output_type": "display_data"
    }
   ],
   "source": [
    "import matplotlib.pyplot as plt\n",
    "\n",
    "# Extract the first row and convert to numeric\n",
    "data = df.iloc[0].astype(float)\n",
    "\n",
    "# Optional: Rename index for cleaner labels\n",
    "data.index = ['Standard', 'Gloss', 'Poster']\n",
    "\n",
    "# Plot\n",
    "plt.figure(figsize = (6, 4))\n",
    "data.plot(kind = 'bar', color = ['skyblue', 'lightgreen', 'salmon'])\n",
    "\n",
    "plt.title('Revenue Percentage by Paper Type')\n",
    "plt.ylabel('Percentage (%)')\n",
    "plt.ylim(0, 50)\n",
    "plt.xticks(rotation = 0)\n",
    "plt.grid(axis = 'y', linestyle = '--', alpha = 0.7)\n",
    "\n",
    "plt.show()\n"
   ]
  },
  {
   "cell_type": "markdown",
   "metadata": {
    "id": "UdXs22ifP3Qi"
   },
   "source": [
    "# Revenue and Volume Growth (2014–2016)\n",
    "\n",
    "From 2014 to 2016, revenue **more than tripled** and unit sales rose over **200%**, demonstrating strong growth."
   ]
  },
  {
   "cell_type": "code",
   "execution_count": 12,
   "metadata": {
    "id": "JtZxQkrbP5Vt"
   },
   "outputs": [
    {
     "data": {
      "text/html": [
       "<div>\n",
       "<style scoped>\n",
       "    .dataframe tbody tr th:only-of-type {\n",
       "        vertical-align: middle;\n",
       "    }\n",
       "\n",
       "    .dataframe tbody tr th {\n",
       "        vertical-align: top;\n",
       "    }\n",
       "\n",
       "    .dataframe thead th {\n",
       "        text-align: right;\n",
       "    }\n",
       "</style>\n",
       "<table border=\"1\" class=\"dataframe\">\n",
       "  <thead>\n",
       "    <tr style=\"text-align: right;\">\n",
       "      <th></th>\n",
       "      <th>year</th>\n",
       "      <th>revenue</th>\n",
       "    </tr>\n",
       "  </thead>\n",
       "  <tbody>\n",
       "    <tr>\n",
       "      <th>0</th>\n",
       "      <td>2014.0</td>\n",
       "      <td>4069106.54</td>\n",
       "    </tr>\n",
       "    <tr>\n",
       "      <th>1</th>\n",
       "      <td>2015.0</td>\n",
       "      <td>5752004.94</td>\n",
       "    </tr>\n",
       "    <tr>\n",
       "      <th>2</th>\n",
       "      <td>2016.0</td>\n",
       "      <td>12864917.92</td>\n",
       "    </tr>\n",
       "  </tbody>\n",
       "</table>\n",
       "</div>"
      ],
      "text/plain": [
       "     year      revenue\n",
       "0  2014.0   4069106.54\n",
       "1  2015.0   5752004.94\n",
       "2  2016.0  12864917.92"
      ]
     },
     "execution_count": 12,
     "metadata": {},
     "output_type": "execute_result"
    }
   ],
   "source": [
    "# Annual revenue by year\n",
    "\n",
    "query = \"\"\"\n",
    "SELECT\n",
    "    EXTRACT(YEAR FROM occurred_at) AS year,\n",
    "    SUM(total_amt_usd) AS revenue\n",
    "FROM orders\n",
    "WHERE EXTRACT(YEAR FROM occurred_at) IN (2014, 2015, 2016)\n",
    "GROUP BY year\n",
    "ORDER BY year \"\"\"\n",
    "\n",
    "df = pd.read_sql(query, engine)\n",
    "df"
   ]
  },
  {
   "cell_type": "code",
   "execution_count": 13,
   "metadata": {},
   "outputs": [
    {
     "data": {
      "image/png": "[encoded data removed]",
      "text/plain": [
       "<Figure size 600x400 with 1 Axes>"
      ]
     },
     "metadata": {},
     "output_type": "display_data"
    }
   ],
   "source": [
    "import matplotlib.pyplot as plt\n",
    "import matplotlib.ticker as ticker\n",
    "\n",
    "# ensure year is treated as int and revenue as float\n",
    "df['year'] = df['year'].astype(int)\n",
    "df['revenue'] = df['revenue'].astype(float)\n",
    "\n",
    "# plot\n",
    "plt.figure(figsize = (6, 4))\n",
    "plt.plot(df['year'], df['revenue'], marker = 'o', linestyle = '-', color = 'green')\n",
    "    \n",
    "plt.title('Annual Revenue (USD)')\n",
    "plt.xlabel('Year')\n",
    "plt.ylabel('Revenue ($)')\n",
    "plt.grid(True, linestyle = '--', alpha = 0.7)\n",
    "plt.xticks(df['year'])\n",
    "\n",
    "# format y-axis ticks with commas, disable scientific notation\n",
    "plt.gca().yaxis.set_major_formatter(ticker.FuncFormatter(lambda x, _: f\"${x:,.0f}\"))\n",
    "\n",
    "plt.tight_layout()\n",
    "plt.show()\n"
   ]
  },
  {
   "cell_type": "code",
   "execution_count": 14,
   "metadata": {
    "id": "wLZHN5oLjICF"
   },
   "outputs": [
    {
     "data": {
      "text/html": [
       "<div>\n",
       "<style scoped>\n",
       "    .dataframe tbody tr th:only-of-type {\n",
       "        vertical-align: middle;\n",
       "    }\n",
       "\n",
       "    .dataframe tbody tr th {\n",
       "        vertical-align: top;\n",
       "    }\n",
       "\n",
       "    .dataframe thead th {\n",
       "        text-align: right;\n",
       "    }\n",
       "</style>\n",
       "<table border=\"1\" class=\"dataframe\">\n",
       "  <thead>\n",
       "    <tr style=\"text-align: right;\">\n",
       "      <th></th>\n",
       "      <th>year</th>\n",
       "      <th>units</th>\n",
       "    </tr>\n",
       "  </thead>\n",
       "  <tbody>\n",
       "    <tr>\n",
       "      <th>0</th>\n",
       "      <td>2014.0</td>\n",
       "      <td>650896</td>\n",
       "    </tr>\n",
       "    <tr>\n",
       "      <th>1</th>\n",
       "      <td>2015.0</td>\n",
       "      <td>912972</td>\n",
       "    </tr>\n",
       "    <tr>\n",
       "      <th>2</th>\n",
       "      <td>2016.0</td>\n",
       "      <td>2041600</td>\n",
       "    </tr>\n",
       "  </tbody>\n",
       "</table>\n",
       "</div>"
      ],
      "text/plain": [
       "     year    units\n",
       "0  2014.0   650896\n",
       "1  2015.0   912972\n",
       "2  2016.0  2041600"
      ]
     },
     "execution_count": 14,
     "metadata": {},
     "output_type": "execute_result"
    }
   ],
   "source": [
    "# Annual units sold\n",
    "\n",
    "query = \"\"\"\n",
    "SELECT\n",
    "    EXTRACT(YEAR FROM occurred_at) AS year,\n",
    "    SUM(total) AS units\n",
    "FROM orders\n",
    "WHERE EXTRACT(YEAR FROM occurred_at) IN (2014, 2015, 2016)\n",
    "GROUP BY year\n",
    "ORDER BY year \"\"\"\n",
    "\n",
    "df = pd.read_sql(query, engine)\n",
    "df"
   ]
  },
  {
   "cell_type": "markdown",
   "metadata": {
    "id": "P8pOLqMHQFhc"
   },
   "source": [
    "# Sales Rep Allocation and Strategy\n",
    "\n",
    "Some regions like **Northeast** are overstaffed (21 reps), while newer regions (North, South) lack coverage. Reallocation is needed.\n"
   ]
  },
  {
   "cell_type": "code",
   "execution_count": 16,
   "metadata": {
    "id": "g9JxCNRaQJba"
   },
   "outputs": [
    {
     "data": {
      "text/html": [
       "<div>\n",
       "<style scoped>\n",
       "    .dataframe tbody tr th:only-of-type {\n",
       "        vertical-align: middle;\n",
       "    }\n",
       "\n",
       "    .dataframe tbody tr th {\n",
       "        vertical-align: top;\n",
       "    }\n",
       "\n",
       "    .dataframe thead th {\n",
       "        text-align: right;\n",
       "    }\n",
       "</style>\n",
       "<table border=\"1\" class=\"dataframe\">\n",
       "  <thead>\n",
       "    <tr style=\"text-align: right;\">\n",
       "      <th></th>\n",
       "      <th>name</th>\n",
       "      <th>count</th>\n",
       "    </tr>\n",
       "  </thead>\n",
       "  <tbody>\n",
       "    <tr>\n",
       "      <th>0</th>\n",
       "      <td>International</td>\n",
       "      <td>1</td>\n",
       "    </tr>\n",
       "    <tr>\n",
       "      <th>1</th>\n",
       "      <td>Midwest</td>\n",
       "      <td>9</td>\n",
       "    </tr>\n",
       "    <tr>\n",
       "      <th>2</th>\n",
       "      <td>North</td>\n",
       "      <td>0</td>\n",
       "    </tr>\n",
       "    <tr>\n",
       "      <th>3</th>\n",
       "      <td>Northeast</td>\n",
       "      <td>21</td>\n",
       "    </tr>\n",
       "    <tr>\n",
       "      <th>4</th>\n",
       "      <td>South</td>\n",
       "      <td>0</td>\n",
       "    </tr>\n",
       "    <tr>\n",
       "      <th>5</th>\n",
       "      <td>Southeast</td>\n",
       "      <td>10</td>\n",
       "    </tr>\n",
       "    <tr>\n",
       "      <th>6</th>\n",
       "      <td>West</td>\n",
       "      <td>10</td>\n",
       "    </tr>\n",
       "  </tbody>\n",
       "</table>\n",
       "</div>"
      ],
      "text/plain": [
       "            name  count\n",
       "0  International      1\n",
       "1        Midwest      9\n",
       "2          North      0\n",
       "3      Northeast     21\n",
       "4          South      0\n",
       "5      Southeast     10\n",
       "6           West     10"
      ]
     },
     "execution_count": 16,
     "metadata": {},
     "output_type": "execute_result"
    }
   ],
   "source": [
    "# Sales reps by region\n",
    "\n",
    "query = \"\"\"\n",
    "SELECT\n",
    "    region.name,\n",
    "    COUNT(sales_reps.id)\n",
    "FROM sales_reps\n",
    "RIGHT JOIN region ON sales_reps.region_id = region.id\n",
    "GROUP BY region.name\n",
    "ORDER BY region.name ASC \"\"\"\n",
    "\n",
    "df = pd.read_sql(query, engine)\n",
    "df"
   ]
  },
  {
   "cell_type": "code",
   "execution_count": 17,
   "metadata": {},
   "outputs": [
    {
     "data": {
      "image/png": "[encoded data removed]",
      "text/plain": [
       "<Figure size 800x500 with 1 Axes>"
      ]
     },
     "metadata": {},
     "output_type": "display_data"
    }
   ],
   "source": [
    "import matplotlib.pyplot as plt\n",
    "\n",
    "# Rename columns for convenience if needed\n",
    "df.columns = ['region', 'sales_rep_count']\n",
    "\n",
    "plt.figure(figsize = (8, 5))\n",
    "plt.bar(df['region'], df['sales_rep_count'], color = 'salmon')\n",
    "\n",
    "plt.title('Number of Sales Reps by Region')\n",
    "plt.xlabel('Region')\n",
    "plt.ylabel('Number of Sales Reps')\n",
    "plt.xticks(rotation = 45, ha = 'right')\n",
    "plt.tight_layout()\n",
    "plt.grid(axis = 'y', linestyle = '--', alpha = 0.7)\n",
    "\n",
    "plt.show()"
   ]
  },
  {
   "cell_type": "markdown",
   "metadata": {
    "id": "tuttVdXAQbcv"
   },
   "source": [
    "## 2016 Operational Summary"
   ]
  },
  {
   "cell_type": "code",
   "execution_count": 19,
   "metadata": {
    "id": "WQ2rQL3BQkD7"
   },
   "outputs": [
    {
     "data": {
      "text/html": [
       "<div>\n",
       "<style scoped>\n",
       "    .dataframe tbody tr th:only-of-type {\n",
       "        vertical-align: middle;\n",
       "    }\n",
       "\n",
       "    .dataframe tbody tr th {\n",
       "        vertical-align: top;\n",
       "    }\n",
       "\n",
       "    .dataframe thead th {\n",
       "        text-align: right;\n",
       "    }\n",
       "</style>\n",
       "<table border=\"1\" class=\"dataframe\">\n",
       "  <thead>\n",
       "    <tr style=\"text-align: right;\">\n",
       "      <th></th>\n",
       "      <th>region</th>\n",
       "      <th>total_orders</th>\n",
       "      <th>reps</th>\n",
       "      <th>accounts</th>\n",
       "      <th>revenue</th>\n",
       "      <th>avg_order_revenue</th>\n",
       "    </tr>\n",
       "  </thead>\n",
       "  <tbody>\n",
       "    <tr>\n",
       "      <th>0</th>\n",
       "      <td>Midwest</td>\n",
       "      <td>483</td>\n",
       "      <td>9</td>\n",
       "      <td>41</td>\n",
       "      <td>1711747.25</td>\n",
       "      <td>3543.99</td>\n",
       "    </tr>\n",
       "    <tr>\n",
       "      <th>1</th>\n",
       "      <td>Northeast</td>\n",
       "      <td>1196</td>\n",
       "      <td>21</td>\n",
       "      <td>97</td>\n",
       "      <td>3999036.82</td>\n",
       "      <td>3343.68</td>\n",
       "    </tr>\n",
       "    <tr>\n",
       "      <th>2</th>\n",
       "      <td>Southeast</td>\n",
       "      <td>1110</td>\n",
       "      <td>10</td>\n",
       "      <td>86</td>\n",
       "      <td>3545487.49</td>\n",
       "      <td>3194.13</td>\n",
       "    </tr>\n",
       "    <tr>\n",
       "      <th>3</th>\n",
       "      <td>West</td>\n",
       "      <td>968</td>\n",
       "      <td>10</td>\n",
       "      <td>93</td>\n",
       "      <td>3608646.36</td>\n",
       "      <td>3727.94</td>\n",
       "    </tr>\n",
       "  </tbody>\n",
       "</table>\n",
       "</div>"
      ],
      "text/plain": [
       "      region  total_orders  reps  accounts     revenue  avg_order_revenue\n",
       "0    Midwest           483     9        41  1711747.25            3543.99\n",
       "1  Northeast          1196    21        97  3999036.82            3343.68\n",
       "2  Southeast          1110    10        86  3545487.49            3194.13\n",
       "3       West           968    10        93  3608646.36            3727.94"
      ]
     },
     "execution_count": 19,
     "metadata": {},
     "output_type": "execute_result"
    }
   ],
   "source": [
    "# Regional sales/rep/account summary for 2016\n",
    "\n",
    "\"\"\" \n",
    "-- the total number of orders per region\n",
    "-- the number of reps per region\n",
    "-- the number of accounts per region\n",
    "-- the total revenues per region\n",
    "-- the average revenues per region \n",
    "\"\"\"\n",
    "\n",
    "query = \"\"\"\n",
    "SELECT\n",
    "    region.name AS region,\n",
    "    COUNT(DISTINCT o.id) AS total_orders,\n",
    "    COUNT(DISTINCT s.id) AS reps,\n",
    "    COUNT(DISTINCT o.account_id) AS accounts,\n",
    "    SUM(o.total_amt_usd) AS revenue,\n",
    "    ROUND(AVG(o.total_amt_usd), 2) AS avg_order_revenue\n",
    "FROM region\n",
    "FULL JOIN sales_reps s ON region.id = s.region_id\n",
    "FULL JOIN accounts a ON a.sales_rep_id = s.id\n",
    "FULL JOIN orders o ON a.id = o.account_id\n",
    "WHERE EXTRACT(YEAR FROM occurred_at) = 2016\n",
    "GROUP BY region \"\"\"\n",
    "\n",
    "df = pd.read_sql(query, engine)\n",
    "df"
   ]
  },
  {
   "cell_type": "code",
   "execution_count": 20,
   "metadata": {
    "id": "nsflvV60lCia"
   },
   "outputs": [
    {
     "data": {
      "text/html": [
       "<div>\n",
       "<style scoped>\n",
       "    .dataframe tbody tr th:only-of-type {\n",
       "        vertical-align: middle;\n",
       "    }\n",
       "\n",
       "    .dataframe tbody tr th {\n",
       "        vertical-align: top;\n",
       "    }\n",
       "\n",
       "    .dataframe thead th {\n",
       "        text-align: right;\n",
       "    }\n",
       "</style>\n",
       "<table border=\"1\" class=\"dataframe\">\n",
       "  <thead>\n",
       "    <tr style=\"text-align: right;\">\n",
       "      <th></th>\n",
       "      <th>region_id</th>\n",
       "      <th>region_name</th>\n",
       "      <th>avg_orders_per_rep_across_all_reps</th>\n",
       "      <th>avg_accounts_per_rep_across_all_reps</th>\n",
       "      <th>avg_revenues_per_rep_across_all_reps</th>\n",
       "    </tr>\n",
       "  </thead>\n",
       "  <tbody>\n",
       "    <tr>\n",
       "      <th>0</th>\n",
       "      <td>1</td>\n",
       "      <td>Northeast</td>\n",
       "      <td>56.0</td>\n",
       "      <td>4.0</td>\n",
       "      <td>190430.32</td>\n",
       "    </tr>\n",
       "    <tr>\n",
       "      <th>1</th>\n",
       "      <td>2</td>\n",
       "      <td>Midwest</td>\n",
       "      <td>53.0</td>\n",
       "      <td>4.0</td>\n",
       "      <td>190194.14</td>\n",
       "    </tr>\n",
       "    <tr>\n",
       "      <th>2</th>\n",
       "      <td>3</td>\n",
       "      <td>Southeast</td>\n",
       "      <td>111.0</td>\n",
       "      <td>8.0</td>\n",
       "      <td>354548.75</td>\n",
       "    </tr>\n",
       "    <tr>\n",
       "      <th>3</th>\n",
       "      <td>4</td>\n",
       "      <td>West</td>\n",
       "      <td>96.0</td>\n",
       "      <td>9.0</td>\n",
       "      <td>360864.64</td>\n",
       "    </tr>\n",
       "  </tbody>\n",
       "</table>\n",
       "</div>"
      ],
      "text/plain": [
       "   region_id region_name  avg_orders_per_rep_across_all_reps  \\\n",
       "0          1   Northeast                                56.0   \n",
       "1          2     Midwest                                53.0   \n",
       "2          3   Southeast                               111.0   \n",
       "3          4        West                                96.0   \n",
       "\n",
       "   avg_accounts_per_rep_across_all_reps  avg_revenues_per_rep_across_all_reps  \n",
       "0                                   4.0                             190430.32  \n",
       "1                                   4.0                             190194.14  \n",
       "2                                   8.0                             354548.75  \n",
       "3                                   9.0                             360864.64  "
      ]
     },
     "execution_count": 20,
     "metadata": {},
     "output_type": "execute_result"
    }
   ],
   "source": [
    "\"\"\"\n",
    "-- average number of orders per representative (across all representatives)\n",
    "-- average number of accounts handled per representative (across all representatives)\n",
    "-- average revenues per representative (across all representatives)\n",
    "\"\"\"\n",
    "\n",
    "# so from the previous output we will use that as a temp table with the WITH clause\n",
    "\n",
    "query = \"\"\"\n",
    "WITH region_table AS (\n",
    "\tSELECT\n",
    "\t\tr.id AS region_id,\n",
    "\t\tr.name AS region_name,\n",
    "\t\tCOUNT(DISTINCT o.id) AS total_orders_per_region,\n",
    "\t\tCOUNT(DISTINCT s.id) AS reps_per_region,\n",
    "\t\tCOUNT(DISTINCT o.account_id) AS accts_per_region,\n",
    "\t\tSUM(o.total_amt_usd) AS total_rev_per_region,\n",
    "\t\tROUND(AVG(o.total_amt_usd), 2) AS avg_rev_perorder_perregion\n",
    "\tFROM region AS r\n",
    "\t\tJOIN sales_reps AS s ON r.id = s.region_id\n",
    "\t\tJOIN accounts AS a ON s.id = a.sales_rep_id\n",
    "\t\tJOIN orders AS o ON a.id = o.account_id\n",
    "\tWHERE EXTRACT(YEAR FROM occurred_at) = 2016\n",
    "\tGROUP BY r.id, r.name)\n",
    "\n",
    "-- from main clause use math using alias from temp table\n",
    "-- round avg orders, avg accounts to whole numbers because doesn't make sense to have partial\n",
    "-- round avg rev to 2 decimal for monetary value\n",
    "-- no need to group by bc temp table is already grouped by region_name\n",
    "\n",
    "SELECT\n",
    "\tregion_id,\n",
    "\tregion_name,\n",
    "    ROUND((total_orders_per_region)/(reps_per_region)) AS avg_orders_per_rep_across_all_reps,\n",
    "    ROUND((accts_per_region)/(reps_per_region)) AS avg_accounts_per_rep_across_all_reps,\n",
    "    ROUND((total_rev_per_region)/(reps_per_region), 2) AS avg_revenues_per_rep_across_all_reps\n",
    "FROM\n",
    "    region_table \"\"\"\n",
    "\n",
    "df = pd.read_sql(query, engine)\n",
    "df"
   ]
  },
  {
   "cell_type": "markdown",
   "metadata": {
    "id": "ZxsBin51QnN6"
   },
   "source": [
    "## Reallocation Recommendation\n",
    "\n",
    "Consider moving 4–6 reps from the **Northeast** to **North and South** to support expansion without sacrificing current operations.\n",
    "\n",
    "---"
   ]
  },
  {
   "cell_type": "markdown",
   "metadata": {
    "id": "LAstz5hYQv0b"
   },
   "source": [
    "# Group vs Non-Group Accounts\n",
    "\n",
    "Contrary to expectations, accounts ending in \"Group\" generate **lower average revenue** than non-group accounts."
   ]
  },
  {
   "cell_type": "code",
   "execution_count": 23,
   "metadata": {
    "id": "nAAUY8GrQ0ny"
   },
   "outputs": [
    {
     "data": {
      "text/html": [
       "<div>\n",
       "<style scoped>\n",
       "    .dataframe tbody tr th:only-of-type {\n",
       "        vertical-align: middle;\n",
       "    }\n",
       "\n",
       "    .dataframe tbody tr th {\n",
       "        vertical-align: top;\n",
       "    }\n",
       "\n",
       "    .dataframe thead th {\n",
       "        text-align: right;\n",
       "    }\n",
       "</style>\n",
       "<table border=\"1\" class=\"dataframe\">\n",
       "  <thead>\n",
       "    <tr style=\"text-align: right;\">\n",
       "      <th></th>\n",
       "      <th>group_status</th>\n",
       "      <th>num_accounts</th>\n",
       "      <th>avg_revenue</th>\n",
       "    </tr>\n",
       "  </thead>\n",
       "  <tbody>\n",
       "    <tr>\n",
       "      <th>0</th>\n",
       "      <td>Not Group</td>\n",
       "      <td>332</td>\n",
       "      <td>66351.025482</td>\n",
       "    </tr>\n",
       "    <tr>\n",
       "      <th>1</th>\n",
       "      <td>Group</td>\n",
       "      <td>18</td>\n",
       "      <td>61831.742778</td>\n",
       "    </tr>\n",
       "  </tbody>\n",
       "</table>\n",
       "</div>"
      ],
      "text/plain": [
       "  group_status  num_accounts   avg_revenue\n",
       "0    Not Group           332  66351.025482\n",
       "1        Group            18  61831.742778"
      ]
     },
     "execution_count": 23,
     "metadata": {},
     "output_type": "execute_result"
    }
   ],
   "source": [
    "# Classify and aggregate group status\n",
    "\n",
    "query = \"\"\"\n",
    "WITH account_groups AS (\n",
    "    SELECT\n",
    "        a.id,\n",
    "        a.name,\n",
    "        CASE WHEN RIGHT(a.name, 5) ILIKE 'group' THEN 'Group' ELSE 'Not Group' END AS group_status,\n",
    "        SUM(o.total_amt_usd) AS total_revenue\n",
    "    FROM accounts a\n",
    "    JOIN orders o ON a.id = o.account_id\n",
    "    GROUP BY a.id, a.name)\n",
    "    \n",
    "SELECT\n",
    "    group_status,\n",
    "\t  COUNT(*) AS num_accounts,\n",
    "\t  AVG(total_revenue) AS avg_revenue\n",
    "FROM account_groups\n",
    "GROUP BY group_status \"\"\"\n",
    "\n",
    "df = pd.read_sql(query, engine)\n",
    "df"
   ]
  },
  {
   "cell_type": "markdown",
   "metadata": {
    "id": "jmo7NGUAQ5hq"
   },
   "source": [
    "# Marketing Channel Optimization\n",
    "\n",
    "In each legacy region, we identified the **least-used web event channel**, which can be deprioritized to free up resources."
   ]
  },
  {
   "cell_type": "code",
   "execution_count": 25,
   "metadata": {
    "id": "AyfvP-H9RGuD"
   },
   "outputs": [
    {
     "data": {
      "text/html": [
       "<div>\n",
       "<style scoped>\n",
       "    .dataframe tbody tr th:only-of-type {\n",
       "        vertical-align: middle;\n",
       "    }\n",
       "\n",
       "    .dataframe tbody tr th {\n",
       "        vertical-align: top;\n",
       "    }\n",
       "\n",
       "    .dataframe thead th {\n",
       "        text-align: right;\n",
       "    }\n",
       "</style>\n",
       "<table border=\"1\" class=\"dataframe\">\n",
       "  <thead>\n",
       "    <tr style=\"text-align: right;\">\n",
       "      <th></th>\n",
       "      <th>region</th>\n",
       "      <th>channel</th>\n",
       "      <th>total_events</th>\n",
       "    </tr>\n",
       "  </thead>\n",
       "  <tbody>\n",
       "    <tr>\n",
       "      <th>0</th>\n",
       "      <td>Midwest</td>\n",
       "      <td>banner</td>\n",
       "      <td>59</td>\n",
       "    </tr>\n",
       "    <tr>\n",
       "      <th>1</th>\n",
       "      <td>Northeast</td>\n",
       "      <td>twitter</td>\n",
       "      <td>154</td>\n",
       "    </tr>\n",
       "    <tr>\n",
       "      <th>2</th>\n",
       "      <td>Southeast</td>\n",
       "      <td>twitter</td>\n",
       "      <td>127</td>\n",
       "    </tr>\n",
       "    <tr>\n",
       "      <th>3</th>\n",
       "      <td>West</td>\n",
       "      <td>banner</td>\n",
       "      <td>116</td>\n",
       "    </tr>\n",
       "  </tbody>\n",
       "</table>\n",
       "</div>"
      ],
      "text/plain": [
       "      region  channel  total_events\n",
       "0    Midwest   banner            59\n",
       "1  Northeast  twitter           154\n",
       "2  Southeast  twitter           127\n",
       "3       West   banner           116"
      ]
     },
     "execution_count": 25,
     "metadata": {},
     "output_type": "execute_result"
    }
   ],
   "source": [
    "# Least-used web event channel per region\n",
    "\n",
    "query = \"\"\"\n",
    "SELECT\n",
    "    region,\n",
    "    channel,\n",
    "    total_events\n",
    "FROM (\n",
    "  SELECT\n",
    "      r.name AS region,\n",
    "      w.channel,\n",
    "      COUNT(*) AS total_events,\n",
    "      RANK() OVER (PARTITION BY r.name ORDER BY COUNT(*) ASC) AS rnk\n",
    "  FROM web_events w\n",
    "  JOIN accounts a ON w.account_id = a.id\n",
    "  JOIN sales_reps s ON a.sales_rep_id = s.id\n",
    "  JOIN region r ON s.region_id = r.id\n",
    "  GROUP BY r.name, w.channel ) AS sub\n",
    "WHERE rnk = 1 \"\"\"\n",
    "\n",
    "df = pd.read_sql(query, engine)\n",
    "df"
   ]
  },
  {
   "cell_type": "markdown",
   "metadata": {
    "id": "RxYn-3HXRKcy"
   },
   "source": [
    "# Final Recommendations\n",
    "\n",
    "- **Proceed with acquisition**: Revenue grew 3x in 2 years.\n",
    "- **Reallocate sales reps**: Especially from Northeast to North/South.\n",
    "- **Prioritize Gloss & Poster papers**: Higher revenue share.\n",
    "- **Trim ineffective channels**: e.g., Twitter, Banner in old regions.\n",
    "\n",
    "This strategic alignment will position Dunder Mifflin to scale Parch & Posey's operations efficiently post-acquisition.\n"
   ]
  }
 ],
 "metadata": {
  "colab": {
   "provenance": [],
   "toc_visible": true
  },
  "kernelspec": {
   "display_name": "Python 3 (ipykernel)",
   "language": "python",
   "name": "python3"
  },
  "language_info": {
   "codemirror_mode": {
    "name": "ipython",
    "version": 3
   },
   "file_extension": ".py",
   "mimetype": "text/x-python",
   "name": "python",
   "nbconvert_exporter": "python",
   "pygments_lexer": "ipython3",
   "version": "3.11.11"
  }
 },
 "nbformat": 4,
 "nbformat_minor": 4
}
